{
  "nbformat": 4,
  "nbformat_minor": 0,
  "metadata": {
    "colab": {
      "provenance": []
    },
    "kernelspec": {
      "name": "python3",
      "display_name": "Python 3"
    },
    "language_info": {
      "name": "python"
    }
  },
  "cells": [
    {
      "cell_type": "markdown",
      "source": [
        "#Problem Set 3 (Due on Nov 15th)"
      ],
      "metadata": {
        "id": "_lEpDu593fK_"
      }
    },
    {
      "cell_type": "code",
      "source": [
        "import numpy as np"
      ],
      "metadata": {
        "id": "7FoAbm1D72ZL"
      },
      "execution_count": 22,
      "outputs": []
    },
    {
      "cell_type": "markdown",
      "source": [
        "##1.0\n",
        "Briefly describe the location and faults of the Campo Felice area and how the basin formed in recent geologic history."
      ],
      "metadata": {
        "id": "Ew8VRW023ngf"
      }
    },
    {
      "cell_type": "markdown",
      "source": [
        "<img src=\"https://github.com/mich1803/EQML-ProblemSets/blob/main/media/CampoFeliceFieldTrip081024/2.jpeg?raw=true\">"
      ],
      "metadata": {
        "id": "xx9vDOC7l-Ki"
      }
    },
    {
      "cell_type": "markdown",
      "source": [
        "Campo Felice is a mountain basin in the Apennines of central Italy, in the Abruzzo region. It formed due to stretching and pulling apart of the Earth's crust along faults, mainly the Ovindoli-Pezza and Campo Felice faults. These faults created a “graben,” or sunken block of land, as the crust extended and broke. This process has been ongoing for thousands of years and is why the area is still prone to earthquakes."
      ],
      "metadata": {
        "id": "M9BljFbqBn6i"
      }
    },
    {
      "cell_type": "markdown",
      "source": [
        "<img src=\"https://github.com/mich1803/EQML-ProblemSets/blob/main/media/CampoFeliceFieldTrip081024/3.jpeg?raw=true\" width=33%>\n",
        "<img src=\"https://github.com/mich1803/EQML-ProblemSets/blob/main/media/CampoFeliceFieldTrip081024/8.jpeg?raw=true\" width=33%>\n",
        "<img src=\"https://github.com/mich1803/EQML-ProblemSets/blob/main/media/CampoFeliceFieldTrip081024/9.jpeg?raw=true\" width=33%>\n"
      ],
      "metadata": {
        "id": "lts0O5OPmdDf"
      }
    },
    {
      "cell_type": "markdown",
      "source": [
        "##2.0\n",
        "Determine the orientation of the Campo Felice fault and estimate its recent slip rate using your field observations and published data. In addition to data you collect in the field, I can suggest that you refer to this paper, which you can find on our course elearning page (Schirripa Spagnolo, G., Mercuri, M., Billi, A., Carminati, E., & Galli, P., Tectonics, 2021). Give the fault strike and dip and state clearly the estimate you used for the slip rate (note that sometimes authors use the term ‘throw rate’ to refer to slip rate)."
      ],
      "metadata": {
        "id": "A0TcVcWG3wjC"
      }
    },
    {
      "cell_type": "markdown",
      "source": [
        "Based on the Schirripa Spagnolo et al. (2021) paper and on-field measuring:\n",
        "\n",
        "1. **Fault Orientation**:\n",
        "   - The MCF (Monte Cefalone) and MOF (Monte Orsello) faults strike NW-SE (azimuth = 208° = strike + 90°).\n",
        "   - Both faults dip steeply toward the SW, with an approximate dip angle of 41°.\n",
        "\n",
        "2. **Slip Rate (Throw Rate)**:\n",
        "   - The estimated slip (or throw) rate for the Monte Cefalone fault (MCF) is around **0.8 to 1.3 mm/year** (let's take 1 ± 0.3 mm/year ), as measured over the past 18,000 years. This rate reflects the average vertical movement along the fault and aligns with throw rates typical for active normal faults in the central Apennines."
      ],
      "metadata": {
        "id": "l-qv0fbzCWhY"
      }
    },
    {
      "cell_type": "code",
      "source": [
        "dip = 41 #degrees\n",
        "alpha = 208 #degrees\n",
        "srate = 0.001 #m/year"
      ],
      "metadata": {
        "id": "xUgdI5-71POm"
      },
      "execution_count": 23,
      "outputs": []
    },
    {
      "cell_type": "markdown",
      "source": [
        "##3.0\n",
        "Let us assume that motion of the Campo Felice fault can be described by motion of Monte Cefalone relative to the Campo Felice basin. Let us further assume that this motion can be described by rotation around an Euler pole, consistent with standard ideas in Plate Tectonic Theory, and that this motion is perpendicular to the strike of the Campo Felice fault. Follow the standard convention that the positive pole of rotation intersects Earth’s surface at the location that describes counter clockwise motion of Monte Cefalone relative to the Campo Felice basin. To obtain the rotation vector we need the linear velocity vector v for Monte Cefalone relative to the Campo Felice basin and the location vector."
      ],
      "metadata": {
        "id": "6qAHvgwJ37MK"
      }
    },
    {
      "cell_type": "markdown",
      "source": [
        "###3.1 Give the position vector at Campo Felice in Spherical Polar Coordinates"
      ],
      "metadata": {
        "id": "gE0CRn3U4E1e"
      }
    },
    {
      "cell_type": "markdown",
      "source": [
        "**Position Vector in Spherical Polar Coordinates**\n",
        "\n",
        "Let:\n",
        "- $ R $ be the radius of the Earth, approximately 6371 km.\n",
        "- Latitude $ \\phi $ and longitude $ \\lambda $ be the coordinates of Campo Felice.\n",
        "\n",
        "Assuming Campo Felice is located near:\n",
        "- Latitude $ \\phi \\approx 42.2167^\\circ $ N\n",
        "- Longitude $ \\lambda \\approx 13.45^\\circ $ E\n",
        "\n",
        "**Position Vector Components**\n",
        "\n",
        "In spherical polar coordinates:\n",
        "- $ r = R \\approx 6371 \\, \\text{km} $\n",
        "- $ \\theta = 90^\\circ - \\phi = 90^\\circ - 42.2167^\\circ = 47.7833^\\circ $ (colatitude)\n",
        "- $ \\lambda = 13.45^\\circ $ (longitude)\n",
        "\n"
      ],
      "metadata": {
        "id": "hBfS-xA13SB6"
      }
    },
    {
      "cell_type": "code",
      "source": [
        "R = 6371 * 1e3 #m\n",
        "CF = (42.2167, 13.45) #Latitude (degrees), Longitude (degrees)\n",
        "CFspc = (R, 90-CF[0], CF[1]) #r (m), theta (colatitude, degrees), lambda (longitude, degrees)\n",
        "print(\"Position Vector at Campo Felice in Spherical Polar Coordinates: ({:.1f} km, {:.2f} degrees, {:.2f} degrees)\".format(CFspc[0]/1e3, CFspc[1], CFspc[2]))"
      ],
      "metadata": {
        "id": "RmIEf-Yq5uP-",
        "colab": {
          "base_uri": "https://localhost:8080/"
        },
        "outputId": "fcdf9485-62e9-4ad4-fca1-244f3656695a"
      },
      "execution_count": 24,
      "outputs": [
        {
          "output_type": "stream",
          "name": "stdout",
          "text": [
            "Position Vector at Campo Felice in Spherical Polar Coordinates: (6371.0 km, 47.78 degrees, 13.45 degrees)\n"
          ]
        }
      ]
    },
    {
      "cell_type": "markdown",
      "source": [
        "Thus, the **position vector $ \\vec{r} $ at Campo Felice in spherical polar coordinates** is:\n",
        "$$\n",
        "\\vec{r} = (r, \\theta, \\lambda) = (6371 \\, \\text{km}, 47.7833^\\circ, 13.45^\\circ)\n",
        "$$"
      ],
      "metadata": {
        "id": "M0DnW9c5lRaC"
      }
    },
    {
      "cell_type": "markdown",
      "source": [
        "###3.2 Give the position vector at Campo Felice in Cartesian Coordinates"
      ],
      "metadata": {
        "id": "JDYVMQhI4IlI"
      }
    },
    {
      "cell_type": "markdown",
      "source": [
        "To express the position vector at Campo Felice in Cartesian coordinates, we’ll convert from spherical polar coordinates to Cartesian $(x, y, z)$.\n",
        "\n",
        "**Cartesian Coordinates Formulas**\n",
        "\n",
        "The Cartesian coordinates $(x, y, z)$ are given by:\n",
        "\n",
        "\n",
        "$$\n",
        "x = r \\cos \\theta \\cos \\lambda\n",
        "$$\n",
        "$$\n",
        "y = r \\cos \\theta \\sin \\lambda\n",
        "$$\n",
        "$$\n",
        "z = r \\sin \\theta\n",
        "$$"
      ],
      "metadata": {
        "id": "g3GKvf7X7bf2"
      }
    },
    {
      "cell_type": "code",
      "source": [
        "CFcc = (CFspc[0]*np.cos(np.deg2rad(CFspc[1]))*np.cos(np.deg2rad(CFspc[2])),\n",
        "        CFspc[0]*np.cos(np.deg2rad(CFspc[1]))*np.sin(np.deg2rad(CFspc[2])),\n",
        "        CFspc[0]*np.sin(np.deg2rad(CFspc[1])))\n",
        "print(\"Position Vector at Campo Felice in Cartesian Coordinates: ({:.1f} km, {:.1f} km, {:.1f} km)\".format(CFcc[0]/1e3, CFcc[1]/1e3, CFcc[2]/1e3))"
      ],
      "metadata": {
        "colab": {
          "base_uri": "https://localhost:8080/"
        },
        "id": "XqbJZzrH7Zdo",
        "outputId": "137e7703-28fb-456d-dfc4-46645934d035"
      },
      "execution_count": 25,
      "outputs": [
        {
          "output_type": "stream",
          "name": "stdout",
          "text": [
            "Position Vector at Campo Felice in Cartesian Coordinates: (4163.5 km, 995.7 km, 4718.4 km)\n"
          ]
        }
      ]
    },
    {
      "cell_type": "markdown",
      "source": [
        "**Position Vector in Cartesian Coordinates**\n",
        "\n",
        "Thus, the **position vector $\\vec{r}$ at Campo Felice in Cartesian coordinates** is approximately:\n",
        "$$\n",
        "\\vec{r} = (x, y, z) \\approx (4162.5 \\, \\text{km}, 995.7 \\, \\text{km}, 4718.4 \\, \\text{km})\n",
        "$$"
      ],
      "metadata": {
        "id": "ro3Y-tA59Crv"
      }
    },
    {
      "cell_type": "markdown",
      "source": [
        "###3.3 Give the velocity vector at Campo Felice in Cartesian Coordinates"
      ],
      "metadata": {
        "id": "ibCdAdMJ4MVo"
      }
    },
    {
      "cell_type": "code",
      "source": [
        "Vx = srate * np.cos(np.deg2rad(alpha)) * np.sin(np.deg2rad(CF[0]))\n",
        "Vy = srate * np.sin(np.deg2rad(alpha)) * np.sin(np.deg2rad(CF[0]))\n",
        "Vz = srate * np.cos(np.deg2rad(CF[0]))\n",
        "V = (Vx, Vy, Vz)\n",
        "\n",
        "print(\"Velocity Vector at Campo Felice in Cartesian Coordinates: ({:.5f} mm/yr, {:.5f} mm/yr, {:.5f} mm/yr)\".format(V[0]*1e3, V[1]*1e3, V[2]*1e3))\n",
        "print(\"Magnitude of Velocity Vector: {:.2f} mm/yr\".format(np.linalg.norm(V)*1e3))\n"
      ],
      "metadata": {
        "colab": {
          "base_uri": "https://localhost:8080/"
        },
        "id": "NDi2jx3z-VnZ",
        "outputId": "5afba044-7bf8-40a8-d494-c33149f31814"
      },
      "execution_count": 26,
      "outputs": [
        {
          "output_type": "stream",
          "name": "stdout",
          "text": [
            "Velocity Vector at Campo Felice in Cartesian Coordinates: (-0.59328 mm/yr, -0.31546 mm/yr, 0.74061 mm/yr)\n",
            "Magnitude of Velocity Vector: 1.00 mm/yr\n"
          ]
        }
      ]
    },
    {
      "cell_type": "markdown",
      "source": [
        "##4.0\n",
        "Now let’s estimate the rotation vector that can describe motion of the Campo Felice fault. As you know, the plate tectonic velocity vector v can be determined from the rotation vector $\\omega$ and position vector $r$ as $v$ = $\\omega$ x $r$. Often, we know $\\omega$ and $r$. In this case, we know\n",
        "$v$ and $r$ from our field work and literature research. Keep in mind that vector cross products require consistent units and that the magnitude of the resulting vector is given by the product of the magnitudes of the vectors in the cross product. Determine the rotation vector $\\omega$."
      ],
      "metadata": {
        "id": "tCKe7fNy4RLH"
      }
    },
    {
      "cell_type": "markdown",
      "source": [
        "###4.2 Give the rotation vector ω in Cartesian Coordinates"
      ],
      "metadata": {
        "id": "mLScu5my4zy2"
      }
    },
    {
      "cell_type": "markdown",
      "source": [
        "We can compute ω doing:\n",
        "\n",
        "$$\n",
        "\\omega = \\frac{\\vec{R} \\times \\vec{V}}{|R|^2}\n",
        "$$"
      ],
      "metadata": {
        "id": "nMIu4dRyjNQq"
      }
    },
    {
      "cell_type": "code",
      "source": [
        "omega_cc = np.cross(CFcc, V) # m^2 / yrs\n",
        "omega_cc /= np.linalg.norm(CFcc)**2\n",
        "print(\"Rotation Vector in Cartesian Coordinates: ({:.2} rad/yr, {:.2} rad/yr, {:.2} rad/yr)\".format(omega_cc[0], omega_cc[1], omega_cc[2]))\n",
        "print(\"Magnitude of Rotation Vector: {:.2} rad/yr\".format(np.linalg.norm(omega_cc)))"
      ],
      "metadata": {
        "colab": {
          "base_uri": "https://localhost:8080/"
        },
        "id": "oA1Lq4yoA1VK",
        "outputId": "9dded543-c2cb-4cd7-bb54-329e314fe463"
      },
      "execution_count": 27,
      "outputs": [
        {
          "output_type": "stream",
          "name": "stdout",
          "text": [
            "Rotation Vector in Cartesian Coordinates: (5.5e-11 rad/yr, -1.4e-10 rad/yr, -1.8e-11 rad/yr)\n",
            "Magnitude of Rotation Vector: 1.6e-10 rad/yr\n"
          ]
        }
      ]
    },
    {
      "cell_type": "markdown",
      "source": [
        "###4.1 Give the rotation vector ω in Spherical Polar Coordinates"
      ],
      "metadata": {
        "id": "rXC7JalZ4tnI"
      }
    },
    {
      "cell_type": "markdown",
      "source": [
        "now we can convert it in SPC:\n",
        "\n",
        "$$\n",
        "|\\omega|, \\quad  \\omega_\\theta = \\text{arccos}(\\frac{\\omega_z}{|\\omega|}), \\quad \\omega_\\phi = \\text{arctan}(\\frac{\\omega_y}{\\omega_x})\n",
        "$$"
      ],
      "metadata": {
        "id": "zfhzqgKfjzdK"
      }
    },
    {
      "cell_type": "code",
      "source": [
        "omega_spc = (np.linalg.norm(omega_cc), np.rad2deg(np.arccos(omega_cc[2]/np.linalg.norm(omega_cc))), np.rad2deg(np.arctan2(omega_cc[1], omega_cc[0])))\n",
        "print(\"Rotation Vector in Spherical Polar Coordinates: ({:.2} rad/yr, {:.2f} degrees, {:.2f} degrees)\".format(omega_spc[0], omega_spc[1], omega_spc[2]))"
      ],
      "metadata": {
        "colab": {
          "base_uri": "https://localhost:8080/"
        },
        "id": "vjkzSwDBA021",
        "outputId": "48398cbf-d6e5-49b6-d29d-627cf04d3bae"
      },
      "execution_count": 28,
      "outputs": [
        {
          "output_type": "stream",
          "name": "stdout",
          "text": [
            "Rotation Vector in Spherical Polar Coordinates: (1.6e-10 rad/yr, 96.55 degrees, -69.28 degrees)\n"
          ]
        }
      ]
    }
  ]
}